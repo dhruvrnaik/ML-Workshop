{
 "cells": [
  {
   "cell_type": "code",
   "execution_count": 36,
   "metadata": {},
   "outputs": [
    {
     "name": "stdout",
     "output_type": "stream",
     "text": [
      "   Id  SepalLengthCm  SepalWidthCm  PetalLengthCm  PetalWidthCm      Species\n",
      "0   1            5.1           3.5            1.4           0.2  Iris-setosa\n",
      "1   2            4.9           3.0            1.4           0.2  Iris-setosa\n",
      "2   3            4.7           3.2            1.3           0.2  Iris-setosa\n",
      "3   4            4.6           3.1            1.5           0.2  Iris-setosa\n",
      "4   5            5.0           3.6            1.4           0.2  Iris-setosa\n"
     ]
    }
   ],
   "source": [
    "import pandas as pd\n",
    "df = pd.read_csv('Iris.csv')                                              #Reading the dataset as a pandas dataframe\n",
    "print(df.head(5))\n",
    "X=df[[\"SepalLengthCm\",\"SepalWidthCm\",\"PetalLengthCm\",\"PetalWidthCm\"]].as_matrix() # Extracting the features from the dataset\n",
    "Y=df[[\"Species\"]].as_matrix()                                                     # Extracting the labels for classes"
   ]
  },
  {
   "cell_type": "code",
   "execution_count": 37,
   "metadata": {
    "collapsed": true
   },
   "outputs": [],
   "source": [
    "from sklearn.cross_validation import train_test_split\n",
    "\n",
    "''' Function used to split the original dataset into training and test dataset'''\n",
    "train_x, test_x,train_y,test_y = train_test_split(X,Y, train_size = 0.8,random_state=42)"
   ]
  },
  {
   "cell_type": "code",
   "execution_count": 38,
   "metadata": {
    "collapsed": true
   },
   "outputs": [],
   "source": [
    "#from sklearn import preprocessing\n",
    "#scaler = preprocessing.StandardScaler().fit(train_x)\n",
    "#train_x = scaler.transform(train_x)\n",
    "#test_x = scaler.transform(test_x)\n"
   ]
  },
  {
   "cell_type": "code",
   "execution_count": 39,
   "metadata": {},
   "outputs": [
    {
     "name": "stdout",
     "output_type": "stream",
     "text": [
      "1.0\n",
      "[[10  0  0]\n",
      " [ 0  9  0]\n",
      " [ 0  0 11]]\n",
      "                 precision    recall  f1-score   support\n",
      "\n",
      "    Iris-setosa       1.00      1.00      1.00        10\n",
      "Iris-versicolor       1.00      1.00      1.00         9\n",
      " Iris-virginica       1.00      1.00      1.00        11\n",
      "\n",
      "    avg / total       1.00      1.00      1.00        30\n",
      "\n",
      "0.950192828851\n"
     ]
    }
   ],
   "source": [
    "from sklearn import metrics\n",
    "from sklearn.linear_model import LogisticRegression\n",
    "\n",
    "model = LogisticRegression()\n",
    "model.fit(train_x, train_y.ravel())\n",
    "expected = test_y\n",
    "# make predictions\n",
    "predicted_logistic = model.predict(test_x)\n",
    "\n",
    "# summarize the fit of the model\n",
    "print(metrics.accuracy_score(expected, predicted_logistic))\n",
    "print(metrics.confusion_matrix(expected, predicted_logistic))\n",
    "print(metrics.classification_report(expected, predicted_logistic))\n",
    "                             \n",
    "from sklearn.model_selection import cross_val_score             \n",
    "scores = cross_val_score(model, train_x, train_y.ravel(), cv=3)\n",
    "print(scores.mean())"
   ]
  },
  {
   "cell_type": "code",
   "execution_count": 40,
   "metadata": {
    "collapsed": true
   },
   "outputs": [],
   "source": [
    "#from sklearn.neural_network import MLPClassifier\n",
    "#clf = MLPClassifier(alpha=0.0, hidden_layer_sizes=(100), random_state=2, max_iter=10000,learning_rate_init=0.0001)\n",
    "#clf.fit(train_x, train_y.ravel())\n",
    "#expected = test_y\n",
    "#predicted_ANN = clf.predict(test_x)\n",
    "#print(metrics.accuracy_score(expected, predicted_ANN))\n",
    "#print(metrics.confusion_matrix(expected, predicted_ANN))\n",
    "#print(metrics.classification_report(expected, predicted_ANN))\n",
    "#scores = cross_val_score(clf, train_x, train_y.ravel(), cv=3)\n",
    "#print(scores.mean())"
   ]
  },
  {
   "cell_type": "code",
   "execution_count": 41,
   "metadata": {},
   "outputs": [
    {
     "name": "stdout",
     "output_type": "stream",
     "text": [
      "1.0\n",
      "[[10  0  0]\n",
      " [ 0  9  0]\n",
      " [ 0  0 11]]\n",
      "                 precision    recall  f1-score   support\n",
      "\n",
      "    Iris-setosa       1.00      1.00      1.00        10\n",
      "Iris-versicolor       1.00      1.00      1.00         9\n",
      " Iris-virginica       1.00      1.00      1.00        11\n",
      "\n",
      "    avg / total       1.00      1.00      1.00        30\n",
      "\n",
      "0.933729414217\n"
     ]
    }
   ],
   "source": [
    "from sklearn.neighbors import KNeighborsClassifier\n",
    "# Make predictions on validation dataset\n",
    "knn = KNeighborsClassifier()\n",
    "knn.fit(train_x, train_y.ravel())     \n",
    "expected = test_y\n",
    "predictions_KNN = knn.predict(test_x)  \n",
    "print(metrics.accuracy_score(expected, predictions_KNN))\n",
    "print(metrics.confusion_matrix(expected, predictions_KNN))\n",
    "print(metrics.classification_report(expected, predictions_KNN))\n",
    "\n",
    "scores = cross_val_score(knn, train_x, train_y.ravel(), cv=3)\n",
    "print(scores.mean())"
   ]
  },
  {
   "cell_type": "code",
   "execution_count": 42,
   "metadata": {},
   "outputs": [
    {
     "name": "stdout",
     "output_type": "stream",
     "text": [
      "1.0\n",
      "[[10  0  0]\n",
      " [ 0  9  0]\n",
      " [ 0  0 11]]\n",
      "                 precision    recall  f1-score   support\n",
      "\n",
      "    Iris-setosa       1.00      1.00      1.00        10\n",
      "Iris-versicolor       1.00      1.00      1.00         9\n",
      " Iris-virginica       1.00      1.00      1.00        11\n",
      "\n",
      "    avg / total       1.00      1.00      1.00        30\n",
      "\n",
      "0.941442568272\n"
     ]
    }
   ],
   "source": [
    "from sklearn.naive_bayes import GaussianNB\n",
    "gnb = GaussianNB()\n",
    "gnb.fit(train_x, train_y.ravel())\n",
    "expected = test_y\n",
    "predictions_gnb = gnb.predict(test_x)\n",
    "print(metrics.accuracy_score(expected, predictions_gnb))\n",
    "print(metrics.confusion_matrix(expected, predictions_gnb))\n",
    "print(metrics.classification_report(expected, predictions_gnb))\n",
    "\n",
    "scores = cross_val_score(gnb, train_x, train_y.ravel(), cv=3)\n",
    "print(scores.mean())"
   ]
  },
  {
   "cell_type": "code",
   "execution_count": 43,
   "metadata": {},
   "outputs": [
    {
     "name": "stdout",
     "output_type": "stream",
     "text": [
      "1.0\n",
      "[[10  0  0]\n",
      " [ 0  9  0]\n",
      " [ 0  0 11]]\n",
      "                 precision    recall  f1-score   support\n",
      "\n",
      "    Iris-setosa       1.00      1.00      1.00        10\n",
      "Iris-versicolor       1.00      1.00      1.00         9\n",
      " Iris-virginica       1.00      1.00      1.00        11\n",
      "\n",
      "    avg / total       1.00      1.00      1.00        30\n",
      "\n",
      "0.949989576819\n"
     ]
    }
   ],
   "source": [
    "from sklearn import svm\n",
    "clf = svm.SVC()\n",
    "clf.fit(train_x, train_y.ravel())\n",
    "expected = test_y\n",
    "predictions_svm = clf.predict(test_x)\n",
    "print(metrics.accuracy_score(expected, predictions_svm))\n",
    "print(metrics.confusion_matrix(expected, predictions_svm))\n",
    "print(metrics.classification_report(expected, predictions_svm))\n",
    "\n",
    "scores = cross_val_score(clf, train_x, train_y.ravel(), cv=3)\n",
    "print(scores.mean())"
   ]
  },
  {
   "cell_type": "code",
   "execution_count": 44,
   "metadata": {},
   "outputs": [
    {
     "name": "stdout",
     "output_type": "stream",
     "text": [
      "1.0\n",
      "[[10  0  0]\n",
      " [ 0  9  0]\n",
      " [ 0  0 11]]\n",
      "                 precision    recall  f1-score   support\n",
      "\n",
      "    Iris-setosa       1.00      1.00      1.00        10\n",
      "Iris-versicolor       1.00      1.00      1.00         9\n",
      " Iris-virginica       1.00      1.00      1.00        11\n",
      "\n",
      "    avg / total       1.00      1.00      1.00        30\n",
      "\n",
      "0.92518240567\n"
     ]
    }
   ],
   "source": [
    "from sklearn.tree import DecisionTreeClassifier\n",
    "clf = DecisionTreeClassifier()\n",
    "clf.fit(train_x, train_y.ravel())\n",
    "expected = test_y\n",
    "predictions_dtc = clf.predict(test_x)\n",
    "print(metrics.accuracy_score(expected, predictions_dtc))\n",
    "print(metrics.confusion_matrix(expected, predictions_dtc))\n",
    "print(metrics.classification_report(expected, predictions_dtc))\n",
    "\n",
    "scores = cross_val_score(clf, train_x, train_y.ravel(), cv=3)\n",
    "print(scores.mean())"
   ]
  }
 ],
 "metadata": {
  "kernelspec": {
   "display_name": "Python [default]",
   "language": "python",
   "name": "python3"
  },
  "language_info": {
   "codemirror_mode": {
    "name": "ipython",
    "version": 3
   },
   "file_extension": ".py",
   "mimetype": "text/x-python",
   "name": "python",
   "nbconvert_exporter": "python",
   "pygments_lexer": "ipython3",
   "version": "3.6.3"
  }
 },
 "nbformat": 4,
 "nbformat_minor": 2
}
